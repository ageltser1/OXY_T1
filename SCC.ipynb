{
  "nbformat": 4,
  "nbformat_minor": 0,
  "metadata": {
    "colab": {
      "provenance": [],
      "include_colab_link": true
    },
    "kernelspec": {
      "name": "python3",
      "display_name": "Python 3"
    },
    "language_info": {
      "name": "python"
    }
  },
  "cells": [
    {
      "cell_type": "markdown",
      "metadata": {
        "id": "view-in-github",
        "colab_type": "text"
      },
      "source": [
        "<a href=\"https://colab.research.google.com/github/ageltser1/OXY_T1/blob/main/SCC.ipynb\" target=\"_parent\"><img src=\"https://colab.research.google.com/assets/colab-badge.svg\" alt=\"Open In Colab\"/></a>"
      ]
    },
    {
      "cell_type": "code",
      "execution_count": 1,
      "metadata": {
        "id": "ua5O34Orp0ID"
      },
      "outputs": [],
      "source": [
        "from __future__ import absolute_import, division, print_function, unicode_literals\n",
        "import numpy as np\n",
        "import tensorflow as tf\n",
        "from tensorflow import keras\n",
        "from tensorflow.keras.optimizers import Adam\n",
        "import pandas as pd\n",
        "import matplotlib.pyplot as plt\n",
        "from sklearn import preprocessing\n",
        "from sklearn.metrics import confusion_matrix\n",
        "from sklearn.model_selection import train_test_split\n",
        "import random"
      ]
    },
    {
      "cell_type": "code",
      "source": [
        "import requests\n",
        "def download_file(url, filename):\n",
        "    response = requests.get(url)\n",
        "    if response.status_code == 200:\n",
        "        with open(filename, 'wb') as file:\n",
        "            file.write(response.content)\n",
        "        print(f\"File successfully downloaded as {filename}\")\n",
        "    else:\n",
        "        print(\"Failed to retrieve the file. Status code:\", response.status_code)"
      ],
      "metadata": {
        "id": "J4AAtd44C3mI"
      },
      "execution_count": 2,
      "outputs": []
    },
    {
      "cell_type": "code",
      "source": [
        "# READ THE INPUT DATA\n",
        "url = 'https://raw.githubusercontent.com/ageltser1/OXY_T1/refs/heads/main/OXY_HD_Git2.csv'\n",
        "filename = \"OXY_HD_Git2.csv\"\n",
        "download_file(url, filename)"
      ],
      "metadata": {
        "id": "YI1pD-Dmp9NZ",
        "collapsed": true,
        "colab": {
          "base_uri": "https://localhost:8080/"
        },
        "outputId": "b4ec341c-ebce-44ca-fd09-eabbba3cea04"
      },
      "execution_count": 3,
      "outputs": [
        {
          "output_type": "stream",
          "name": "stdout",
          "text": [
            "File successfully downloaded as OXY_HD_Git2.csv\n"
          ]
        }
      ]
    },
    {
      "cell_type": "code",
      "source": [
        "input_filename = filename\n",
        "df = pd.read_csv(input_filename, dtype='float64', header=0)  # Read CSV while keeping all columns\n",
        "input_data = df.to_numpy()\n",
        "\n",
        "\n",
        "print('input_data:', input_data.shape)\n",
        "\n",
        "print()\n",
        "\"\"\"\n",
        "\n",
        "# Load your data into a DataFrame\n",
        "df = pd.read_csv('OXY_HD_Git2.csv')\n",
        "\n",
        "# Check for NaN values\n",
        "nan_counts = df.isna().sum()\n",
        "\n",
        "# Display columns with NaN values and their counts\n",
        "nan_columns = nan_counts[nan_counts > 0]\n",
        "print(nan_columns)\n",
        "\n",
        "# Optional: Display rows with NaN values\n",
        "rows_with_nan = df[df.isna().any(axis=1)]\n",
        "print(rows_with_nan)\n",
        "\n",
        "\"\"\"\n",
        "\n",
        "print()\n",
        "\n",
        "\n",
        "print(df.isna().sum())\n",
        "print()\n",
        "\n",
        "\n",
        "# PRINT SOME OF THE INPUT DATA EXAMPLES\n",
        "print('OXY_Close_PD   OXY_Volume       VIX_Close     PD_11-5_AVGs       11-5_Label')\n",
        "for i in range(0, 19):\n",
        "    print('{:4.0e}'.format(input_data[i,0]), '      ',\n",
        "          '{:4.0e}'.format(input_data[i,1]), '         ',\n",
        "          '{:3.0e}'.format(input_data[i,2]), '          ',\n",
        "          '{:3.0e}'.format(input_data[i,3]), '             ',\n",
        "          '{:3.0e}'.format(input_data[i, 4]), '        '\n",
        "          )"
      ],
      "metadata": {
        "id": "nskVOBkFqIOs",
        "collapsed": true,
        "colab": {
          "base_uri": "https://localhost:8080/"
        },
        "outputId": "436b2d94-6bdd-4881-ae21-a6270ad3f200"
      },
      "execution_count": 4,
      "outputs": [
        {
          "output_type": "stream",
          "name": "stdout",
          "text": [
            "input_data: (3830, 6)\n",
            "\n",
            "\n",
            "OXY_Close_PD    0\n",
            "OXY_Volume      0\n",
            "VIX_Close       0\n",
            "PD_11-5_AVGs    0\n",
            "12-5_Label      0\n",
            "OXY_Close       0\n",
            "dtype: int64\n",
            "\n",
            "OXY_Close_PD   OXY_Volume       VIX_Close     PD_11-5_AVGs       11-5_Label\n",
            "-3e-02        8e+06           2e+01            -5e-03               0e+00         \n",
            "1e-03        1e+07           3e+01            -4e-03               0e+00         \n",
            "2e-02        7e+06           3e+01            -1e-03               0e+00         \n",
            "-1e-02        9e+06           2e+01            3e-03               2e+00         \n",
            "-3e-03        5e+06           2e+01            5e-03               0e+00         \n",
            "1e-02        1e+07           2e+01            4e-03               0e+00         \n",
            "1e-02        1e+07           2e+01            9e-03               0e+00         \n",
            "2e-02        6e+06           2e+01            2e-02               0e+00         \n",
            "1e-02        5e+06           2e+01            2e-02               0e+00         \n",
            "-8e-03        4e+06           2e+01            1e-02               0e+00         \n",
            "-5e-02        8e+06           3e+01            2e-02               0e+00         \n",
            "4e-03        1e+07           3e+01            2e-03               1e+00         \n",
            "-5e-03        7e+06           3e+01            -8e-03               1e+00         \n",
            "2e-02        8e+06           3e+01            -1e-02               0e+00         \n",
            "6e-03        6e+06           3e+01            -1e-02               0e+00         \n",
            "3e-02        6e+06           2e+01            -1e-02               2e+00         \n",
            "-8e-03        6e+06           2e+01            8e-04               2e+00         \n",
            "2e-02        6e+06           2e+01            1e-02               0e+00         \n",
            "-3e-03        5e+06           2e+01            2e-02               0e+00         \n"
          ]
        }
      ]
    },
    {
      "cell_type": "code",
      "source": [
        "training_size = int(len(input_data) * 0.8)\n",
        "\n",
        "train_data = input_data[:training_size]       # First 3062 rows\n",
        "test_data = input_data[training_size:]        # Remaining rows\n",
        "\n",
        "print('train_data:', train_data.shape)\n",
        "print('test_data:', test_data.shape)"
      ],
      "metadata": {
        "id": "jZ4IzgEHqOVT",
        "collapsed": true,
        "colab": {
          "base_uri": "https://localhost:8080/"
        },
        "outputId": "4e008ecf-32e9-4a4f-9c67-acc50f24c79a"
      },
      "execution_count": 5,
      "outputs": [
        {
          "output_type": "stream",
          "name": "stdout",
          "text": [
            "train_data: (3064, 6)\n",
            "test_data: (766, 6)\n"
          ]
        }
      ]
    },
    {
      "cell_type": "code",
      "source": [
        "nFeatures = 4\n",
        "ground_truth_col = 4\n",
        "\n",
        "train_X = train_data[:, :nFeatures]            # columns 0 to 3 (features)\n",
        "train_truth = train_data[:, ground_truth_col]  # column 5 (labels)\n",
        "\n",
        "#train_truth = train_truth-1   # train_truth has values ranging between 1 and 3.  To match the softmax output\n",
        "                              # module, the Ground Truth array needs to have values ranging between 0 and 2, so\n",
        "                              # we simply subtract 1 from the values.\n",
        "print('train_truth shape[0]', train_truth.shape[0])\n",
        "# for the test data\n",
        "test_X = test_data[:, :nFeatures]  ## columns 0 to 3 (features)\n",
        "test_truth = test_data[:, ground_truth_col]   # column 5 (labels)\n",
        "\n",
        "print('train_X', train_X.shape)\n",
        "print('train_truth', train_truth.shape)\n",
        "print('test_X', test_X.shape)\n",
        "print('test_truth', test_truth.shape)\n",
        "print()\n",
        "n_test_examples = test_X.shape[0]\n",
        "\n",
        "\n",
        "print('OXY_Close_PD   OXY_Volume       VIX_Close     PD_11-5_AVGs       11-5_Label')\n",
        "for i in range(0, 19):\n",
        "    print('  {:4.0e}'.format(train_X[i,0]), '       ',\n",
        "          '{:4.0e}'.format(train_X[i,1]), '        ',\n",
        "          '{:3.0e}'.format(train_X[i,2]), '          ',\n",
        "          '{:3.0e}'.format(train_X[i,3]), '             ',\n",
        "          '{:3.0e}'.format(train_truth[i]), '        '\n",
        "          )"
      ],
      "metadata": {
        "id": "qHOeX0i5qQdK",
        "collapsed": true,
        "colab": {
          "base_uri": "https://localhost:8080/"
        },
        "outputId": "0a21490d-1b5c-49e6-8ce7-b2574fa25b4c"
      },
      "execution_count": 55,
      "outputs": [
        {
          "output_type": "stream",
          "name": "stdout",
          "text": [
            "train_truth shape[0] 3064\n",
            "train_X (3064, 4)\n",
            "train_truth (3064,)\n",
            "test_X (766, 4)\n",
            "test_truth (766,)\n",
            "\n",
            "OXY_Close_PD   OXY_Volume       VIX_Close     PD_11-5_AVGs       11-5_Label\n",
            "  -3e-02         8e+06          2e+01            -5e-03               0e+00         \n",
            "  1e-03         1e+07          3e+01            -4e-03               0e+00         \n",
            "  2e-02         7e+06          3e+01            -1e-03               0e+00         \n",
            "  -1e-02         9e+06          2e+01            3e-03               2e+00         \n",
            "  -3e-03         5e+06          2e+01            5e-03               0e+00         \n",
            "  1e-02         1e+07          2e+01            4e-03               0e+00         \n",
            "  1e-02         1e+07          2e+01            9e-03               0e+00         \n",
            "  2e-02         6e+06          2e+01            2e-02               0e+00         \n",
            "  1e-02         5e+06          2e+01            2e-02               0e+00         \n",
            "  -8e-03         4e+06          2e+01            1e-02               0e+00         \n",
            "  -5e-02         8e+06          3e+01            2e-02               0e+00         \n",
            "  4e-03         1e+07          3e+01            2e-03               1e+00         \n",
            "  -5e-03         7e+06          3e+01            -8e-03               1e+00         \n",
            "  2e-02         8e+06          3e+01            -1e-02               0e+00         \n",
            "  6e-03         6e+06          3e+01            -1e-02               0e+00         \n",
            "  3e-02         6e+06          2e+01            -1e-02               2e+00         \n",
            "  -8e-03         6e+06          2e+01            8e-04               2e+00         \n",
            "  2e-02         6e+06          2e+01            1e-02               0e+00         \n",
            "  -3e-03         5e+06          2e+01            2e-02               0e+00         \n"
          ]
        }
      ]
    },
    {
      "cell_type": "code",
      "source": [
        "# SCALE EACH FEATURE TO BE CENTERED ON ZERO, WITH A STANDARD DEVIATION OF 1\n",
        "scaler_obj = preprocessing.StandardScaler().fit(train_X)   # scaler_obj will scale each Feature (column) independently\n",
        "train_X_std = scaler_obj.transform(train_X)  # scale each training data Feature (column)\n",
        "test_X_std = scaler_obj.transform(test_X)  # scale each test data Feature (column)\n",
        "\n",
        "\n",
        "for i in range(0,30):\n",
        "    print(train_X_std[i,0], '      ',\n",
        "          train_X_std[i,1], '         ',\n",
        "          train_X_std[i,2], '          ',\n",
        "        train_X_std[i,3], '             '\n",
        "         )\n",
        "\n",
        "\n",
        "print('train_X', train_X_std.shape)\n",
        "print('train_truth', train_truth.shape)\n",
        "print('test_X', test_X_std.shape)\n",
        "print('test_truth', test_truth.shape)\n"
      ],
      "metadata": {
        "id": "jSaMfbg9qZaz",
        "collapsed": true,
        "colab": {
          "base_uri": "https://localhost:8080/"
        },
        "outputId": "918d8152-7e31-47bd-8a47-a09efd1db294"
      },
      "execution_count": 52,
      "outputs": [
        {
          "output_type": "stream",
          "name": "stdout",
          "text": [
            "-1.0346872681390893        -0.11355669239954297           0.55015398572914            -0.2713161918750511              \n",
            "0.026386225601865064        0.11916225070739062           1.2432963259441066            -0.2119704812607038              \n",
            "0.7207380579210529        -0.19464539743551415           0.98199266687566            -0.06979885533387571              \n",
            "-0.47797344980335105        0.024496386985073247           0.8637182715396778            0.18741417716934447              \n",
            "-0.12509092048333204        -0.3271468695152728           0.6698034327088365            0.28810788296246953              \n",
            "0.49023911196648606        0.27625783736693726           0.7509451321192461            0.2506681242006719              \n",
            "0.3758473874446989        0.21851676712256185           0.8733454704233524            0.5213728924791875              \n",
            "0.6719550934857422        -0.22912509160456712           0.5941629892139771            0.8903817493393695              \n",
            "0.4142540696975872        -0.3177502730428585           0.4415065265978386            0.9525740645711342              \n",
            "-0.3077579536383712        -0.4737240370792639           0.4580100344160597            0.8070735542604685              \n",
            "-1.683342289876159        -0.07919200985218772           1.074136616813458            0.9642536220916166              \n",
            "0.11134968255952565        0.16897376569222164           1.0782625597815827            0.11739294084826375              \n",
            "-0.20994528649201483        -0.1763411876075364           1.1332738151690904            -0.4678139532377004              \n",
            "0.7472905820806454        -0.03873878475331089           1.0631343662860697            -0.870514056159462              \n",
            "0.2065027032381205        -0.24707452916178074           0.9806173525529519            -0.7456451714749965              \n",
            "0.939328218937846        -0.21672735321452877           0.7825765707539859            -0.8692541110337777              \n",
            "-0.31340921933402155        -0.21907654826379114           0.6134168629986205            0.048193509962734464              \n",
            "0.6094773115832142        -0.25388226179818385           0.5474033570837239            0.62012220620108              \n",
            "-0.12351642408105659        -0.3569954168023208           0.47451327955528644            0.9746036500428884              \n",
            "0.00586593064734021        -0.41745000804775834           0.3246074455845645            0.9782315881404418              \n",
            "0.21590348369569906        -0.4405578821902877           0.24071538020773253            0.8037009729887041              \n",
            "-0.6825951997955012        -0.30317594889842203           0.22971312830506138            0.39893274056064726              \n",
            "-0.4688850800800337        -0.10868578486847158           0.42637859578131937            -0.5795133742122137              \n",
            "0.23088901154791738        -0.46157561301932754           0.2750974474878889            -0.7932655370994439              \n",
            "-0.25311442556169395        -0.3204733477249563           0.2517176307351214            -0.9453430975130375              \n",
            "0.35910091594994814        -0.3906888613946078           0.16920061700200364            -0.7452534838296642              \n",
            "0.3914744000940353        -0.4130297770470776           0.13619386404455533            -0.632807167474611              \n",
            "0.185224504561882        -0.4251877547880496           0.10868810569894594            -0.04496100736510699              \n",
            "-0.09228330905974101        -0.1644995836885509           0.07705666568892285            0.289693937966539              \n",
            "0.08179388958128897        -0.39622136133739416           0.061928472193409856            0.5366686152960156              \n",
            "train_X (3064, 4)\n",
            "train_truth (3064,)\n",
            "test_X (766, 4)\n",
            "test_truth (766,)\n"
          ]
        }
      ]
    },
    {
      "cell_type": "code",
      "source": [
        "# DISCUSSION #5:  The DNN Model\n",
        "\n",
        "n_possible_outcomes = 3\n",
        "model = keras.models.Sequential()\n",
        "model.add(keras.layers.InputLayer(input_shape=[nFeatures,]))               # Input Layer\n",
        "model.add(keras.layers.Dense(nFeatures, activation='relu'))                # Hidden Layer 1\n",
        "model.add(keras.layers.Dense(nFeatures, activation='relu'))                # Hidden Layer 2\n",
        "model.add(keras.layers.Dense(n_possible_outcomes, activation='softmax'))   # Output Layer\n",
        "\n",
        "model.summary()\n",
        "model.compile(loss='sparse_categorical_crossentropy',optimizer=Adam(0.001), metrics=[\"accuracy\"])\n"
      ],
      "metadata": {
        "id": "i9bD24uwqezT",
        "collapsed": true,
        "colab": {
          "base_uri": "https://localhost:8080/",
          "height": 225
        },
        "outputId": "1a6c6e20-25ea-4894-9b69-d573cf626e82"
      },
      "execution_count": 42,
      "outputs": [
        {
          "output_type": "display_data",
          "data": {
            "text/plain": [
              "\u001b[1mModel: \"sequential_3\"\u001b[0m\n"
            ],
            "text/html": [
              "<pre style=\"white-space:pre;overflow-x:auto;line-height:normal;font-family:Menlo,'DejaVu Sans Mono',consolas,'Courier New',monospace\"><span style=\"font-weight: bold\">Model: \"sequential_3\"</span>\n",
              "</pre>\n"
            ]
          },
          "metadata": {}
        },
        {
          "output_type": "display_data",
          "data": {
            "text/plain": [
              "┏━━━━━━━━━━━━━━━━━━━━━━━━━━━━━━━━━┳━━━━━━━━━━━━━━━━━━━━━━━━┳━━━━━━━━━━━━━━━┓\n",
              "┃\u001b[1m \u001b[0m\u001b[1mLayer (type)                   \u001b[0m\u001b[1m \u001b[0m┃\u001b[1m \u001b[0m\u001b[1mOutput Shape          \u001b[0m\u001b[1m \u001b[0m┃\u001b[1m \u001b[0m\u001b[1m      Param #\u001b[0m\u001b[1m \u001b[0m┃\n",
              "┡━━━━━━━━━━━━━━━━━━━━━━━━━━━━━━━━━╇━━━━━━━━━━━━━━━━━━━━━━━━╇━━━━━━━━━━━━━━━┩\n",
              "│ dense_9 (\u001b[38;5;33mDense\u001b[0m)                 │ (\u001b[38;5;45mNone\u001b[0m, \u001b[38;5;34m4\u001b[0m)              │            \u001b[38;5;34m20\u001b[0m │\n",
              "├─────────────────────────────────┼────────────────────────┼───────────────┤\n",
              "│ dense_10 (\u001b[38;5;33mDense\u001b[0m)                │ (\u001b[38;5;45mNone\u001b[0m, \u001b[38;5;34m4\u001b[0m)              │            \u001b[38;5;34m20\u001b[0m │\n",
              "├─────────────────────────────────┼────────────────────────┼───────────────┤\n",
              "│ dense_11 (\u001b[38;5;33mDense\u001b[0m)                │ (\u001b[38;5;45mNone\u001b[0m, \u001b[38;5;34m3\u001b[0m)              │            \u001b[38;5;34m15\u001b[0m │\n",
              "└─────────────────────────────────┴────────────────────────┴───────────────┘\n"
            ],
            "text/html": [
              "<pre style=\"white-space:pre;overflow-x:auto;line-height:normal;font-family:Menlo,'DejaVu Sans Mono',consolas,'Courier New',monospace\">┏━━━━━━━━━━━━━━━━━━━━━━━━━━━━━━━━━┳━━━━━━━━━━━━━━━━━━━━━━━━┳━━━━━━━━━━━━━━━┓\n",
              "┃<span style=\"font-weight: bold\"> Layer (type)                    </span>┃<span style=\"font-weight: bold\"> Output Shape           </span>┃<span style=\"font-weight: bold\">       Param # </span>┃\n",
              "┡━━━━━━━━━━━━━━━━━━━━━━━━━━━━━━━━━╇━━━━━━━━━━━━━━━━━━━━━━━━╇━━━━━━━━━━━━━━━┩\n",
              "│ dense_9 (<span style=\"color: #0087ff; text-decoration-color: #0087ff\">Dense</span>)                 │ (<span style=\"color: #00d7ff; text-decoration-color: #00d7ff\">None</span>, <span style=\"color: #00af00; text-decoration-color: #00af00\">4</span>)              │            <span style=\"color: #00af00; text-decoration-color: #00af00\">20</span> │\n",
              "├─────────────────────────────────┼────────────────────────┼───────────────┤\n",
              "│ dense_10 (<span style=\"color: #0087ff; text-decoration-color: #0087ff\">Dense</span>)                │ (<span style=\"color: #00d7ff; text-decoration-color: #00d7ff\">None</span>, <span style=\"color: #00af00; text-decoration-color: #00af00\">4</span>)              │            <span style=\"color: #00af00; text-decoration-color: #00af00\">20</span> │\n",
              "├─────────────────────────────────┼────────────────────────┼───────────────┤\n",
              "│ dense_11 (<span style=\"color: #0087ff; text-decoration-color: #0087ff\">Dense</span>)                │ (<span style=\"color: #00d7ff; text-decoration-color: #00d7ff\">None</span>, <span style=\"color: #00af00; text-decoration-color: #00af00\">3</span>)              │            <span style=\"color: #00af00; text-decoration-color: #00af00\">15</span> │\n",
              "└─────────────────────────────────┴────────────────────────┴───────────────┘\n",
              "</pre>\n"
            ]
          },
          "metadata": {}
        },
        {
          "output_type": "display_data",
          "data": {
            "text/plain": [
              "\u001b[1m Total params: \u001b[0m\u001b[38;5;34m55\u001b[0m (220.00 B)\n"
            ],
            "text/html": [
              "<pre style=\"white-space:pre;overflow-x:auto;line-height:normal;font-family:Menlo,'DejaVu Sans Mono',consolas,'Courier New',monospace\"><span style=\"font-weight: bold\"> Total params: </span><span style=\"color: #00af00; text-decoration-color: #00af00\">55</span> (220.00 B)\n",
              "</pre>\n"
            ]
          },
          "metadata": {}
        },
        {
          "output_type": "display_data",
          "data": {
            "text/plain": [
              "\u001b[1m Trainable params: \u001b[0m\u001b[38;5;34m55\u001b[0m (220.00 B)\n"
            ],
            "text/html": [
              "<pre style=\"white-space:pre;overflow-x:auto;line-height:normal;font-family:Menlo,'DejaVu Sans Mono',consolas,'Courier New',monospace\"><span style=\"font-weight: bold\"> Trainable params: </span><span style=\"color: #00af00; text-decoration-color: #00af00\">55</span> (220.00 B)\n",
              "</pre>\n"
            ]
          },
          "metadata": {}
        },
        {
          "output_type": "display_data",
          "data": {
            "text/plain": [
              "\u001b[1m Non-trainable params: \u001b[0m\u001b[38;5;34m0\u001b[0m (0.00 B)\n"
            ],
            "text/html": [
              "<pre style=\"white-space:pre;overflow-x:auto;line-height:normal;font-family:Menlo,'DejaVu Sans Mono',consolas,'Courier New',monospace\"><span style=\"font-weight: bold\"> Non-trainable params: </span><span style=\"color: #00af00; text-decoration-color: #00af00\">0</span> (0.00 B)\n",
              "</pre>\n"
            ]
          },
          "metadata": {}
        }
      ]
    },
    {
      "cell_type": "code",
      "source": [
        "# :::::::::::::::::::::::::::::::::::::::::::::::::::::::::::::::::::::::::::::::::::::::::::::::::::::::::::::::::\n",
        "# DISCUSSION #6:  Run the model\n",
        "# -----------------------------------------------------------------------------------------------------------------\n",
        "# The TensorFlow 'fit' method is used to compute the best weights for the Training Examples.  The 136 weights\n",
        "# are trained over 10 epochs.  Note that the softmax Output Layer outputs a probability for each of the possible\n",
        "# outcomes.\n",
        "# Each probability will be a number between 0 and 1.  For each Training Example, the largest of the 3 probabilites\n",
        "# is chosen as the 'answer' to be compared against the Ground Truth value.  The comparison of the Training Examples\n",
        "# to their Ground Truth values are stored in the 'history' object for plotting.\n",
        "#\n",
        "# The Test Examples are also input to the fit method and the predictions from our new model (derived from the\n",
        "# Training Examples) are compared against the matching Test Ground Truth values.  This gives a validation\n",
        "# measure of how the model will do when data it has never seen before are input.  The comparison of the Test\n",
        "# Examples to their Ground Truth values are also stored in the 'history' object for plotting.\n",
        "\n",
        "# New Running Sum = ((Current Running Sum +1)*(New Gain + 1)) - 1\n",
        "# :::::::::::::::::::::::::::::::::::::::::::::::::::::::::::::::::::::::::::::::::::::::::::::::::::::::::::::::::\n",
        "nEpochs = 100\n",
        "history = model.fit(train_X_std, train_truth, batch_size=16, epochs=nEpochs, validation_data=(test_X_std,test_truth))\n"
      ],
      "metadata": {
        "id": "2f-YK3oLqmSi",
        "collapsed": true,
        "colab": {
          "base_uri": "https://localhost:8080/"
        },
        "outputId": "6be81c59-4edb-4d24-dcdb-7fff2d59681f"
      },
      "execution_count": 43,
      "outputs": [
        {
          "output_type": "stream",
          "name": "stdout",
          "text": [
            "Epoch 1/100\n",
            "\u001b[1m192/192\u001b[0m \u001b[32m━━━━━━━━━━━━━━━━━━━━\u001b[0m\u001b[37m\u001b[0m \u001b[1m2s\u001b[0m 4ms/step - accuracy: 0.7624 - loss: 0.9580 - val_accuracy: 0.8029 - val_loss: 0.7715\n",
            "Epoch 2/100\n",
            "\u001b[1m192/192\u001b[0m \u001b[32m━━━━━━━━━━━━━━━━━━━━\u001b[0m\u001b[37m\u001b[0m \u001b[1m1s\u001b[0m 3ms/step - accuracy: 0.7773 - loss: 0.7643 - val_accuracy: 0.8029 - val_loss: 0.6695\n",
            "Epoch 3/100\n",
            "\u001b[1m192/192\u001b[0m \u001b[32m━━━━━━━━━━━━━━━━━━━━\u001b[0m\u001b[37m\u001b[0m \u001b[1m1s\u001b[0m 3ms/step - accuracy: 0.7888 - loss: 0.6919 - val_accuracy: 0.8029 - val_loss: 0.6432\n",
            "Epoch 4/100\n",
            "\u001b[1m192/192\u001b[0m \u001b[32m━━━━━━━━━━━━━━━━━━━━\u001b[0m\u001b[37m\u001b[0m \u001b[1m2s\u001b[0m 7ms/step - accuracy: 0.7944 - loss: 0.6495 - val_accuracy: 0.8029 - val_loss: 0.6299\n",
            "Epoch 5/100\n",
            "\u001b[1m192/192\u001b[0m \u001b[32m━━━━━━━━━━━━━━━━━━━━\u001b[0m\u001b[37m\u001b[0m \u001b[1m3s\u001b[0m 9ms/step - accuracy: 0.7983 - loss: 0.6324 - val_accuracy: 0.8029 - val_loss: 0.6237\n",
            "Epoch 6/100\n",
            "\u001b[1m192/192\u001b[0m \u001b[32m━━━━━━━━━━━━━━━━━━━━\u001b[0m\u001b[37m\u001b[0m \u001b[1m1s\u001b[0m 3ms/step - accuracy: 0.7977 - loss: 0.6317 - val_accuracy: 0.8029 - val_loss: 0.6151\n",
            "Epoch 7/100\n",
            "\u001b[1m192/192\u001b[0m \u001b[32m━━━━━━━━━━━━━━━━━━━━\u001b[0m\u001b[37m\u001b[0m \u001b[1m1s\u001b[0m 3ms/step - accuracy: 0.7854 - loss: 0.6426 - val_accuracy: 0.8029 - val_loss: 0.6079\n",
            "Epoch 8/100\n",
            "\u001b[1m192/192\u001b[0m \u001b[32m━━━━━━━━━━━━━━━━━━━━\u001b[0m\u001b[37m\u001b[0m \u001b[1m1s\u001b[0m 3ms/step - accuracy: 0.7918 - loss: 0.6251 - val_accuracy: 0.8029 - val_loss: 0.6043\n",
            "Epoch 9/100\n",
            "\u001b[1m192/192\u001b[0m \u001b[32m━━━━━━━━━━━━━━━━━━━━\u001b[0m\u001b[37m\u001b[0m \u001b[1m1s\u001b[0m 3ms/step - accuracy: 0.7930 - loss: 0.6177 - val_accuracy: 0.8029 - val_loss: 0.5975\n",
            "Epoch 10/100\n",
            "\u001b[1m192/192\u001b[0m \u001b[32m━━━━━━━━━━━━━━━━━━━━\u001b[0m\u001b[37m\u001b[0m \u001b[1m1s\u001b[0m 3ms/step - accuracy: 0.7869 - loss: 0.6280 - val_accuracy: 0.8029 - val_loss: 0.5928\n",
            "Epoch 11/100\n",
            "\u001b[1m192/192\u001b[0m \u001b[32m━━━━━━━━━━━━━━━━━━━━\u001b[0m\u001b[37m\u001b[0m \u001b[1m1s\u001b[0m 3ms/step - accuracy: 0.7868 - loss: 0.6217 - val_accuracy: 0.8029 - val_loss: 0.5911\n",
            "Epoch 12/100\n",
            "\u001b[1m192/192\u001b[0m \u001b[32m━━━━━━━━━━━━━━━━━━━━\u001b[0m\u001b[37m\u001b[0m \u001b[1m1s\u001b[0m 3ms/step - accuracy: 0.7920 - loss: 0.6189 - val_accuracy: 0.8029 - val_loss: 0.5919\n",
            "Epoch 13/100\n",
            "\u001b[1m192/192\u001b[0m \u001b[32m━━━━━━━━━━━━━━━━━━━━\u001b[0m\u001b[37m\u001b[0m \u001b[1m1s\u001b[0m 3ms/step - accuracy: 0.7929 - loss: 0.6065 - val_accuracy: 0.8029 - val_loss: 0.5874\n",
            "Epoch 14/100\n",
            "\u001b[1m192/192\u001b[0m \u001b[32m━━━━━━━━━━━━━━━━━━━━\u001b[0m\u001b[37m\u001b[0m \u001b[1m1s\u001b[0m 3ms/step - accuracy: 0.7965 - loss: 0.5930 - val_accuracy: 0.8029 - val_loss: 0.5870\n",
            "Epoch 15/100\n",
            "\u001b[1m192/192\u001b[0m \u001b[32m━━━━━━━━━━━━━━━━━━━━\u001b[0m\u001b[37m\u001b[0m \u001b[1m1s\u001b[0m 3ms/step - accuracy: 0.7940 - loss: 0.5903 - val_accuracy: 0.8029 - val_loss: 0.5870\n",
            "Epoch 16/100\n",
            "\u001b[1m192/192\u001b[0m \u001b[32m━━━━━━━━━━━━━━━━━━━━\u001b[0m\u001b[37m\u001b[0m \u001b[1m1s\u001b[0m 3ms/step - accuracy: 0.7890 - loss: 0.6089 - val_accuracy: 0.8029 - val_loss: 0.5853\n",
            "Epoch 17/100\n",
            "\u001b[1m192/192\u001b[0m \u001b[32m━━━━━━━━━━━━━━━━━━━━\u001b[0m\u001b[37m\u001b[0m \u001b[1m1s\u001b[0m 3ms/step - accuracy: 0.7831 - loss: 0.6173 - val_accuracy: 0.8029 - val_loss: 0.5840\n",
            "Epoch 18/100\n",
            "\u001b[1m192/192\u001b[0m \u001b[32m━━━━━━━━━━━━━━━━━━━━\u001b[0m\u001b[37m\u001b[0m \u001b[1m1s\u001b[0m 3ms/step - accuracy: 0.7802 - loss: 0.6169 - val_accuracy: 0.8029 - val_loss: 0.5863\n",
            "Epoch 19/100\n",
            "\u001b[1m192/192\u001b[0m \u001b[32m━━━━━━━━━━━━━━━━━━━━\u001b[0m\u001b[37m\u001b[0m \u001b[1m1s\u001b[0m 5ms/step - accuracy: 0.7993 - loss: 0.5887 - val_accuracy: 0.8029 - val_loss: 0.5884\n",
            "Epoch 20/100\n",
            "\u001b[1m192/192\u001b[0m \u001b[32m━━━━━━━━━━━━━━━━━━━━\u001b[0m\u001b[37m\u001b[0m \u001b[1m1s\u001b[0m 5ms/step - accuracy: 0.7925 - loss: 0.5928 - val_accuracy: 0.8029 - val_loss: 0.5841\n",
            "Epoch 21/100\n",
            "\u001b[1m192/192\u001b[0m \u001b[32m━━━━━━━━━━━━━━━━━━━━\u001b[0m\u001b[37m\u001b[0m \u001b[1m1s\u001b[0m 3ms/step - accuracy: 0.7767 - loss: 0.6187 - val_accuracy: 0.8029 - val_loss: 0.5823\n",
            "Epoch 22/100\n",
            "\u001b[1m192/192\u001b[0m \u001b[32m━━━━━━━━━━━━━━━━━━━━\u001b[0m\u001b[37m\u001b[0m \u001b[1m1s\u001b[0m 4ms/step - accuracy: 0.7966 - loss: 0.5883 - val_accuracy: 0.8029 - val_loss: 0.5851\n",
            "Epoch 23/100\n",
            "\u001b[1m192/192\u001b[0m \u001b[32m━━━━━━━━━━━━━━━━━━━━\u001b[0m\u001b[37m\u001b[0m \u001b[1m1s\u001b[0m 3ms/step - accuracy: 0.7824 - loss: 0.6104 - val_accuracy: 0.8029 - val_loss: 0.5808\n",
            "Epoch 24/100\n",
            "\u001b[1m192/192\u001b[0m \u001b[32m━━━━━━━━━━━━━━━━━━━━\u001b[0m\u001b[37m\u001b[0m \u001b[1m1s\u001b[0m 3ms/step - accuracy: 0.7873 - loss: 0.6026 - val_accuracy: 0.8029 - val_loss: 0.5878\n",
            "Epoch 25/100\n",
            "\u001b[1m192/192\u001b[0m \u001b[32m━━━━━━━━━━━━━━━━━━━━\u001b[0m\u001b[37m\u001b[0m \u001b[1m1s\u001b[0m 3ms/step - accuracy: 0.7958 - loss: 0.5925 - val_accuracy: 0.8029 - val_loss: 0.5873\n",
            "Epoch 26/100\n",
            "\u001b[1m192/192\u001b[0m \u001b[32m━━━━━━━━━━━━━━━━━━━━\u001b[0m\u001b[37m\u001b[0m \u001b[1m1s\u001b[0m 3ms/step - accuracy: 0.7851 - loss: 0.6067 - val_accuracy: 0.8029 - val_loss: 0.5843\n",
            "Epoch 27/100\n",
            "\u001b[1m192/192\u001b[0m \u001b[32m━━━━━━━━━━━━━━━━━━━━\u001b[0m\u001b[37m\u001b[0m \u001b[1m1s\u001b[0m 3ms/step - accuracy: 0.7881 - loss: 0.6048 - val_accuracy: 0.8029 - val_loss: 0.5837\n",
            "Epoch 28/100\n",
            "\u001b[1m192/192\u001b[0m \u001b[32m━━━━━━━━━━━━━━━━━━━━\u001b[0m\u001b[37m\u001b[0m \u001b[1m1s\u001b[0m 3ms/step - accuracy: 0.7889 - loss: 0.5958 - val_accuracy: 0.8029 - val_loss: 0.5873\n",
            "Epoch 29/100\n",
            "\u001b[1m192/192\u001b[0m \u001b[32m━━━━━━━━━━━━━━━━━━━━\u001b[0m\u001b[37m\u001b[0m \u001b[1m1s\u001b[0m 3ms/step - accuracy: 0.7911 - loss: 0.5951 - val_accuracy: 0.8029 - val_loss: 0.5855\n",
            "Epoch 30/100\n",
            "\u001b[1m192/192\u001b[0m \u001b[32m━━━━━━━━━━━━━━━━━━━━\u001b[0m\u001b[37m\u001b[0m \u001b[1m1s\u001b[0m 3ms/step - accuracy: 0.7895 - loss: 0.5996 - val_accuracy: 0.8029 - val_loss: 0.5862\n",
            "Epoch 31/100\n",
            "\u001b[1m192/192\u001b[0m \u001b[32m━━━━━━━━━━━━━━━━━━━━\u001b[0m\u001b[37m\u001b[0m \u001b[1m1s\u001b[0m 3ms/step - accuracy: 0.7821 - loss: 0.6106 - val_accuracy: 0.8029 - val_loss: 0.5847\n",
            "Epoch 32/100\n",
            "\u001b[1m192/192\u001b[0m \u001b[32m━━━━━━━━━━━━━━━━━━━━\u001b[0m\u001b[37m\u001b[0m \u001b[1m1s\u001b[0m 3ms/step - accuracy: 0.8040 - loss: 0.5721 - val_accuracy: 0.8029 - val_loss: 0.5851\n",
            "Epoch 33/100\n",
            "\u001b[1m192/192\u001b[0m \u001b[32m━━━━━━━━━━━━━━━━━━━━\u001b[0m\u001b[37m\u001b[0m \u001b[1m1s\u001b[0m 4ms/step - accuracy: 0.7822 - loss: 0.6063 - val_accuracy: 0.8029 - val_loss: 0.5834\n",
            "Epoch 34/100\n",
            "\u001b[1m192/192\u001b[0m \u001b[32m━━━━━━━━━━━━━━━━━━━━\u001b[0m\u001b[37m\u001b[0m \u001b[1m1s\u001b[0m 4ms/step - accuracy: 0.7881 - loss: 0.6020 - val_accuracy: 0.8029 - val_loss: 0.5862\n",
            "Epoch 35/100\n",
            "\u001b[1m192/192\u001b[0m \u001b[32m━━━━━━━━━━━━━━━━━━━━\u001b[0m\u001b[37m\u001b[0m \u001b[1m1s\u001b[0m 5ms/step - accuracy: 0.7822 - loss: 0.6126 - val_accuracy: 0.8029 - val_loss: 0.5842\n",
            "Epoch 36/100\n",
            "\u001b[1m192/192\u001b[0m \u001b[32m━━━━━━━━━━━━━━━━━━━━\u001b[0m\u001b[37m\u001b[0m \u001b[1m1s\u001b[0m 3ms/step - accuracy: 0.7918 - loss: 0.5921 - val_accuracy: 0.8029 - val_loss: 0.5897\n",
            "Epoch 37/100\n",
            "\u001b[1m192/192\u001b[0m \u001b[32m━━━━━━━━━━━━━━━━━━━━\u001b[0m\u001b[37m\u001b[0m \u001b[1m1s\u001b[0m 3ms/step - accuracy: 0.7948 - loss: 0.6022 - val_accuracy: 0.8029 - val_loss: 0.5864\n",
            "Epoch 38/100\n",
            "\u001b[1m192/192\u001b[0m \u001b[32m━━━━━━━━━━━━━━━━━━━━\u001b[0m\u001b[37m\u001b[0m \u001b[1m1s\u001b[0m 3ms/step - accuracy: 0.7961 - loss: 0.5820 - val_accuracy: 0.8029 - val_loss: 0.5877\n",
            "Epoch 39/100\n",
            "\u001b[1m192/192\u001b[0m \u001b[32m━━━━━━━━━━━━━━━━━━━━\u001b[0m\u001b[37m\u001b[0m \u001b[1m1s\u001b[0m 3ms/step - accuracy: 0.7858 - loss: 0.6225 - val_accuracy: 0.8029 - val_loss: 0.5853\n",
            "Epoch 40/100\n",
            "\u001b[1m192/192\u001b[0m \u001b[32m━━━━━━━━━━━━━━━━━━━━\u001b[0m\u001b[37m\u001b[0m \u001b[1m1s\u001b[0m 3ms/step - accuracy: 0.7775 - loss: 0.6211 - val_accuracy: 0.8029 - val_loss: 0.5843\n",
            "Epoch 41/100\n",
            "\u001b[1m192/192\u001b[0m \u001b[32m━━━━━━━━━━━━━━━━━━━━\u001b[0m\u001b[37m\u001b[0m \u001b[1m1s\u001b[0m 3ms/step - accuracy: 0.7995 - loss: 0.5863 - val_accuracy: 0.8029 - val_loss: 0.5902\n",
            "Epoch 42/100\n",
            "\u001b[1m192/192\u001b[0m \u001b[32m━━━━━━━━━━━━━━━━━━━━\u001b[0m\u001b[37m\u001b[0m \u001b[1m1s\u001b[0m 3ms/step - accuracy: 0.7920 - loss: 0.6006 - val_accuracy: 0.8029 - val_loss: 0.5854\n",
            "Epoch 43/100\n",
            "\u001b[1m192/192\u001b[0m \u001b[32m━━━━━━━━━━━━━━━━━━━━\u001b[0m\u001b[37m\u001b[0m \u001b[1m1s\u001b[0m 3ms/step - accuracy: 0.7871 - loss: 0.6044 - val_accuracy: 0.8029 - val_loss: 0.5877\n",
            "Epoch 44/100\n",
            "\u001b[1m192/192\u001b[0m \u001b[32m━━━━━━━━━━━━━━━━━━━━\u001b[0m\u001b[37m\u001b[0m \u001b[1m1s\u001b[0m 4ms/step - accuracy: 0.7897 - loss: 0.5938 - val_accuracy: 0.8029 - val_loss: 0.5869\n",
            "Epoch 45/100\n",
            "\u001b[1m192/192\u001b[0m \u001b[32m━━━━━━━━━━━━━━━━━━━━\u001b[0m\u001b[37m\u001b[0m \u001b[1m1s\u001b[0m 5ms/step - accuracy: 0.7913 - loss: 0.5935 - val_accuracy: 0.8029 - val_loss: 0.5876\n",
            "Epoch 46/100\n",
            "\u001b[1m192/192\u001b[0m \u001b[32m━━━━━━━━━━━━━━━━━━━━\u001b[0m\u001b[37m\u001b[0m \u001b[1m1s\u001b[0m 4ms/step - accuracy: 0.7988 - loss: 0.5763 - val_accuracy: 0.8029 - val_loss: 0.5871\n",
            "Epoch 47/100\n",
            "\u001b[1m192/192\u001b[0m \u001b[32m━━━━━━━━━━━━━━━━━━━━\u001b[0m\u001b[37m\u001b[0m \u001b[1m1s\u001b[0m 3ms/step - accuracy: 0.7747 - loss: 0.6272 - val_accuracy: 0.8029 - val_loss: 0.5851\n",
            "Epoch 48/100\n",
            "\u001b[1m192/192\u001b[0m \u001b[32m━━━━━━━━━━━━━━━━━━━━\u001b[0m\u001b[37m\u001b[0m \u001b[1m1s\u001b[0m 3ms/step - accuracy: 0.7859 - loss: 0.6100 - val_accuracy: 0.8029 - val_loss: 0.5859\n",
            "Epoch 49/100\n",
            "\u001b[1m192/192\u001b[0m \u001b[32m━━━━━━━━━━━━━━━━━━━━\u001b[0m\u001b[37m\u001b[0m \u001b[1m1s\u001b[0m 3ms/step - accuracy: 0.7877 - loss: 0.5945 - val_accuracy: 0.8029 - val_loss: 0.5858\n",
            "Epoch 50/100\n",
            "\u001b[1m192/192\u001b[0m \u001b[32m━━━━━━━━━━━━━━━━━━━━\u001b[0m\u001b[37m\u001b[0m \u001b[1m1s\u001b[0m 3ms/step - accuracy: 0.7946 - loss: 0.5877 - val_accuracy: 0.8029 - val_loss: 0.5857\n",
            "Epoch 51/100\n",
            "\u001b[1m192/192\u001b[0m \u001b[32m━━━━━━━━━━━━━━━━━━━━\u001b[0m\u001b[37m\u001b[0m \u001b[1m1s\u001b[0m 3ms/step - accuracy: 0.7922 - loss: 0.5880 - val_accuracy: 0.8029 - val_loss: 0.5856\n",
            "Epoch 52/100\n",
            "\u001b[1m192/192\u001b[0m \u001b[32m━━━━━━━━━━━━━━━━━━━━\u001b[0m\u001b[37m\u001b[0m \u001b[1m1s\u001b[0m 3ms/step - accuracy: 0.7915 - loss: 0.5942 - val_accuracy: 0.8029 - val_loss: 0.5878\n",
            "Epoch 53/100\n",
            "\u001b[1m192/192\u001b[0m \u001b[32m━━━━━━━━━━━━━━━━━━━━\u001b[0m\u001b[37m\u001b[0m \u001b[1m1s\u001b[0m 3ms/step - accuracy: 0.7865 - loss: 0.5973 - val_accuracy: 0.8029 - val_loss: 0.5867\n",
            "Epoch 54/100\n",
            "\u001b[1m192/192\u001b[0m \u001b[32m━━━━━━━━━━━━━━━━━━━━\u001b[0m\u001b[37m\u001b[0m \u001b[1m1s\u001b[0m 4ms/step - accuracy: 0.8000 - loss: 0.5772 - val_accuracy: 0.8029 - val_loss: 0.5876\n",
            "Epoch 55/100\n",
            "\u001b[1m192/192\u001b[0m \u001b[32m━━━━━━━━━━━━━━━━━━━━\u001b[0m\u001b[37m\u001b[0m \u001b[1m1s\u001b[0m 4ms/step - accuracy: 0.7836 - loss: 0.6051 - val_accuracy: 0.8029 - val_loss: 0.5860\n",
            "Epoch 56/100\n",
            "\u001b[1m192/192\u001b[0m \u001b[32m━━━━━━━━━━━━━━━━━━━━\u001b[0m\u001b[37m\u001b[0m \u001b[1m1s\u001b[0m 3ms/step - accuracy: 0.7933 - loss: 0.5897 - val_accuracy: 0.8029 - val_loss: 0.5864\n",
            "Epoch 57/100\n",
            "\u001b[1m192/192\u001b[0m \u001b[32m━━━━━━━━━━━━━━━━━━━━\u001b[0m\u001b[37m\u001b[0m \u001b[1m1s\u001b[0m 3ms/step - accuracy: 0.7862 - loss: 0.6067 - val_accuracy: 0.8029 - val_loss: 0.5843\n",
            "Epoch 58/100\n",
            "\u001b[1m192/192\u001b[0m \u001b[32m━━━━━━━━━━━━━━━━━━━━\u001b[0m\u001b[37m\u001b[0m \u001b[1m1s\u001b[0m 3ms/step - accuracy: 0.7933 - loss: 0.5926 - val_accuracy: 0.8029 - val_loss: 0.5865\n",
            "Epoch 59/100\n",
            "\u001b[1m192/192\u001b[0m \u001b[32m━━━━━━━━━━━━━━━━━━━━\u001b[0m\u001b[37m\u001b[0m \u001b[1m2s\u001b[0m 5ms/step - accuracy: 0.7979 - loss: 0.5862 - val_accuracy: 0.8029 - val_loss: 0.5848\n",
            "Epoch 60/100\n",
            "\u001b[1m192/192\u001b[0m \u001b[32m━━━━━━━━━━━━━━━━━━━━\u001b[0m\u001b[37m\u001b[0m \u001b[1m1s\u001b[0m 4ms/step - accuracy: 0.7897 - loss: 0.5970 - val_accuracy: 0.8029 - val_loss: 0.5868\n",
            "Epoch 61/100\n",
            "\u001b[1m192/192\u001b[0m \u001b[32m━━━━━━━━━━━━━━━━━━━━\u001b[0m\u001b[37m\u001b[0m \u001b[1m1s\u001b[0m 3ms/step - accuracy: 0.7958 - loss: 0.5882 - val_accuracy: 0.8029 - val_loss: 0.5869\n",
            "Epoch 62/100\n",
            "\u001b[1m192/192\u001b[0m \u001b[32m━━━━━━━━━━━━━━━━━━━━\u001b[0m\u001b[37m\u001b[0m \u001b[1m1s\u001b[0m 3ms/step - accuracy: 0.7787 - loss: 0.6112 - val_accuracy: 0.8029 - val_loss: 0.5859\n",
            "Epoch 63/100\n",
            "\u001b[1m192/192\u001b[0m \u001b[32m━━━━━━━━━━━━━━━━━━━━\u001b[0m\u001b[37m\u001b[0m \u001b[1m1s\u001b[0m 3ms/step - accuracy: 0.7811 - loss: 0.6134 - val_accuracy: 0.8029 - val_loss: 0.5835\n",
            "Epoch 64/100\n",
            "\u001b[1m192/192\u001b[0m \u001b[32m━━━━━━━━━━━━━━━━━━━━\u001b[0m\u001b[37m\u001b[0m \u001b[1m1s\u001b[0m 3ms/step - accuracy: 0.7864 - loss: 0.5960 - val_accuracy: 0.8029 - val_loss: 0.5828\n",
            "Epoch 65/100\n",
            "\u001b[1m192/192\u001b[0m \u001b[32m━━━━━━━━━━━━━━━━━━━━\u001b[0m\u001b[37m\u001b[0m \u001b[1m1s\u001b[0m 3ms/step - accuracy: 0.8022 - loss: 0.5716 - val_accuracy: 0.8029 - val_loss: 0.5861\n",
            "Epoch 66/100\n",
            "\u001b[1m192/192\u001b[0m \u001b[32m━━━━━━━━━━━━━━━━━━━━\u001b[0m\u001b[37m\u001b[0m \u001b[1m1s\u001b[0m 3ms/step - accuracy: 0.7923 - loss: 0.5910 - val_accuracy: 0.8029 - val_loss: 0.5835\n",
            "Epoch 67/100\n",
            "\u001b[1m192/192\u001b[0m \u001b[32m━━━━━━━━━━━━━━━━━━━━\u001b[0m\u001b[37m\u001b[0m \u001b[1m1s\u001b[0m 3ms/step - accuracy: 0.7959 - loss: 0.5801 - val_accuracy: 0.8029 - val_loss: 0.5852\n",
            "Epoch 68/100\n",
            "\u001b[1m192/192\u001b[0m \u001b[32m━━━━━━━━━━━━━━━━━━━━\u001b[0m\u001b[37m\u001b[0m \u001b[1m1s\u001b[0m 3ms/step - accuracy: 0.7821 - loss: 0.6105 - val_accuracy: 0.8029 - val_loss: 0.5832\n",
            "Epoch 69/100\n",
            "\u001b[1m192/192\u001b[0m \u001b[32m━━━━━━━━━━━━━━━━━━━━\u001b[0m\u001b[37m\u001b[0m \u001b[1m1s\u001b[0m 3ms/step - accuracy: 0.8002 - loss: 0.5678 - val_accuracy: 0.8029 - val_loss: 0.5880\n",
            "Epoch 70/100\n",
            "\u001b[1m192/192\u001b[0m \u001b[32m━━━━━━━━━━━━━━━━━━━━\u001b[0m\u001b[37m\u001b[0m \u001b[1m1s\u001b[0m 4ms/step - accuracy: 0.7836 - loss: 0.6002 - val_accuracy: 0.8029 - val_loss: 0.5866\n",
            "Epoch 71/100\n",
            "\u001b[1m192/192\u001b[0m \u001b[32m━━━━━━━━━━━━━━━━━━━━\u001b[0m\u001b[37m\u001b[0m \u001b[1m1s\u001b[0m 5ms/step - accuracy: 0.7896 - loss: 0.5995 - val_accuracy: 0.8029 - val_loss: 0.5839\n",
            "Epoch 72/100\n",
            "\u001b[1m192/192\u001b[0m \u001b[32m━━━━━━━━━━━━━━━━━━━━\u001b[0m\u001b[37m\u001b[0m \u001b[1m1s\u001b[0m 4ms/step - accuracy: 0.7866 - loss: 0.6078 - val_accuracy: 0.8029 - val_loss: 0.5863\n",
            "Epoch 73/100\n",
            "\u001b[1m192/192\u001b[0m \u001b[32m━━━━━━━━━━━━━━━━━━━━\u001b[0m\u001b[37m\u001b[0m \u001b[1m1s\u001b[0m 4ms/step - accuracy: 0.7974 - loss: 0.5906 - val_accuracy: 0.8029 - val_loss: 0.5834\n",
            "Epoch 74/100\n",
            "\u001b[1m192/192\u001b[0m \u001b[32m━━━━━━━━━━━━━━━━━━━━\u001b[0m\u001b[37m\u001b[0m \u001b[1m1s\u001b[0m 3ms/step - accuracy: 0.7918 - loss: 0.5929 - val_accuracy: 0.8029 - val_loss: 0.5857\n",
            "Epoch 75/100\n",
            "\u001b[1m192/192\u001b[0m \u001b[32m━━━━━━━━━━━━━━━━━━━━\u001b[0m\u001b[37m\u001b[0m \u001b[1m1s\u001b[0m 3ms/step - accuracy: 0.7994 - loss: 0.5808 - val_accuracy: 0.8029 - val_loss: 0.5856\n",
            "Epoch 76/100\n",
            "\u001b[1m192/192\u001b[0m \u001b[32m━━━━━━━━━━━━━━━━━━━━\u001b[0m\u001b[37m\u001b[0m \u001b[1m1s\u001b[0m 3ms/step - accuracy: 0.8008 - loss: 0.5663 - val_accuracy: 0.8029 - val_loss: 0.5890\n",
            "Epoch 77/100\n",
            "\u001b[1m192/192\u001b[0m \u001b[32m━━━━━━━━━━━━━━━━━━━━\u001b[0m\u001b[37m\u001b[0m \u001b[1m1s\u001b[0m 3ms/step - accuracy: 0.7877 - loss: 0.6019 - val_accuracy: 0.8029 - val_loss: 0.5855\n",
            "Epoch 78/100\n",
            "\u001b[1m192/192\u001b[0m \u001b[32m━━━━━━━━━━━━━━━━━━━━\u001b[0m\u001b[37m\u001b[0m \u001b[1m1s\u001b[0m 3ms/step - accuracy: 0.7806 - loss: 0.6134 - val_accuracy: 0.8029 - val_loss: 0.5832\n",
            "Epoch 79/100\n",
            "\u001b[1m192/192\u001b[0m \u001b[32m━━━━━━━━━━━━━━━━━━━━\u001b[0m\u001b[37m\u001b[0m \u001b[1m1s\u001b[0m 3ms/step - accuracy: 0.7857 - loss: 0.5967 - val_accuracy: 0.8029 - val_loss: 0.5838\n",
            "Epoch 80/100\n",
            "\u001b[1m192/192\u001b[0m \u001b[32m━━━━━━━━━━━━━━━━━━━━\u001b[0m\u001b[37m\u001b[0m \u001b[1m1s\u001b[0m 3ms/step - accuracy: 0.7972 - loss: 0.5810 - val_accuracy: 0.8029 - val_loss: 0.5854\n",
            "Epoch 81/100\n",
            "\u001b[1m192/192\u001b[0m \u001b[32m━━━━━━━━━━━━━━━━━━━━\u001b[0m\u001b[37m\u001b[0m \u001b[1m1s\u001b[0m 3ms/step - accuracy: 0.7970 - loss: 0.5752 - val_accuracy: 0.8029 - val_loss: 0.5874\n",
            "Epoch 82/100\n",
            "\u001b[1m192/192\u001b[0m \u001b[32m━━━━━━━━━━━━━━━━━━━━\u001b[0m\u001b[37m\u001b[0m \u001b[1m2s\u001b[0m 5ms/step - accuracy: 0.7853 - loss: 0.5988 - val_accuracy: 0.8029 - val_loss: 0.5831\n",
            "Epoch 83/100\n",
            "\u001b[1m192/192\u001b[0m \u001b[32m━━━━━━━━━━━━━━━━━━━━\u001b[0m\u001b[37m\u001b[0m \u001b[1m2s\u001b[0m 6ms/step - accuracy: 0.7913 - loss: 0.5896 - val_accuracy: 0.8029 - val_loss: 0.5856\n",
            "Epoch 84/100\n",
            "\u001b[1m192/192\u001b[0m \u001b[32m━━━━━━━━━━━━━━━━━━━━\u001b[0m\u001b[37m\u001b[0m \u001b[1m1s\u001b[0m 3ms/step - accuracy: 0.7971 - loss: 0.5753 - val_accuracy: 0.8029 - val_loss: 0.5855\n",
            "Epoch 85/100\n",
            "\u001b[1m192/192\u001b[0m \u001b[32m━━━━━━━━━━━━━━━━━━━━\u001b[0m\u001b[37m\u001b[0m \u001b[1m1s\u001b[0m 3ms/step - accuracy: 0.7803 - loss: 0.6115 - val_accuracy: 0.8029 - val_loss: 0.5803\n",
            "Epoch 86/100\n",
            "\u001b[1m192/192\u001b[0m \u001b[32m━━━━━━━━━━━━━━━━━━━━\u001b[0m\u001b[37m\u001b[0m \u001b[1m1s\u001b[0m 3ms/step - accuracy: 0.7841 - loss: 0.6048 - val_accuracy: 0.8029 - val_loss: 0.5819\n",
            "Epoch 87/100\n",
            "\u001b[1m192/192\u001b[0m \u001b[32m━━━━━━━━━━━━━━━━━━━━\u001b[0m\u001b[37m\u001b[0m \u001b[1m1s\u001b[0m 4ms/step - accuracy: 0.7834 - loss: 0.5980 - val_accuracy: 0.8029 - val_loss: 0.5813\n",
            "Epoch 88/100\n",
            "\u001b[1m192/192\u001b[0m \u001b[32m━━━━━━━━━━━━━━━━━━━━\u001b[0m\u001b[37m\u001b[0m \u001b[1m1s\u001b[0m 3ms/step - accuracy: 0.7881 - loss: 0.5960 - val_accuracy: 0.8029 - val_loss: 0.5812\n",
            "Epoch 89/100\n",
            "\u001b[1m192/192\u001b[0m \u001b[32m━━━━━━━━━━━━━━━━━━━━\u001b[0m\u001b[37m\u001b[0m \u001b[1m1s\u001b[0m 4ms/step - accuracy: 0.7910 - loss: 0.5967 - val_accuracy: 0.8029 - val_loss: 0.5874\n",
            "Epoch 90/100\n",
            "\u001b[1m192/192\u001b[0m \u001b[32m━━━━━━━━━━━━━━━━━━━━\u001b[0m\u001b[37m\u001b[0m \u001b[1m1s\u001b[0m 3ms/step - accuracy: 0.7929 - loss: 0.6047 - val_accuracy: 0.8029 - val_loss: 0.5824\n",
            "Epoch 91/100\n",
            "\u001b[1m192/192\u001b[0m \u001b[32m━━━━━━━━━━━━━━━━━━━━\u001b[0m\u001b[37m\u001b[0m \u001b[1m1s\u001b[0m 3ms/step - accuracy: 0.8044 - loss: 0.5680 - val_accuracy: 0.8029 - val_loss: 0.5882\n",
            "Epoch 92/100\n",
            "\u001b[1m192/192\u001b[0m \u001b[32m━━━━━━━━━━━━━━━━━━━━\u001b[0m\u001b[37m\u001b[0m \u001b[1m1s\u001b[0m 3ms/step - accuracy: 0.7913 - loss: 0.5836 - val_accuracy: 0.8029 - val_loss: 0.5894\n",
            "Epoch 93/100\n",
            "\u001b[1m192/192\u001b[0m \u001b[32m━━━━━━━━━━━━━━━━━━━━\u001b[0m\u001b[37m\u001b[0m \u001b[1m1s\u001b[0m 3ms/step - accuracy: 0.7817 - loss: 0.6048 - val_accuracy: 0.8029 - val_loss: 0.5854\n",
            "Epoch 94/100\n",
            "\u001b[1m192/192\u001b[0m \u001b[32m━━━━━━━━━━━━━━━━━━━━\u001b[0m\u001b[37m\u001b[0m \u001b[1m1s\u001b[0m 3ms/step - accuracy: 0.7923 - loss: 0.5837 - val_accuracy: 0.8029 - val_loss: 0.5858\n",
            "Epoch 95/100\n",
            "\u001b[1m192/192\u001b[0m \u001b[32m━━━━━━━━━━━━━━━━━━━━\u001b[0m\u001b[37m\u001b[0m \u001b[1m1s\u001b[0m 3ms/step - accuracy: 0.7787 - loss: 0.6121 - val_accuracy: 0.8029 - val_loss: 0.5828\n",
            "Epoch 96/100\n",
            "\u001b[1m192/192\u001b[0m \u001b[32m━━━━━━━━━━━━━━━━━━━━\u001b[0m\u001b[37m\u001b[0m \u001b[1m1s\u001b[0m 5ms/step - accuracy: 0.7918 - loss: 0.5917 - val_accuracy: 0.8029 - val_loss: 0.5822\n",
            "Epoch 97/100\n",
            "\u001b[1m192/192\u001b[0m \u001b[32m━━━━━━━━━━━━━━━━━━━━\u001b[0m\u001b[37m\u001b[0m \u001b[1m1s\u001b[0m 5ms/step - accuracy: 0.7972 - loss: 0.5811 - val_accuracy: 0.8029 - val_loss: 0.5838\n",
            "Epoch 98/100\n",
            "\u001b[1m192/192\u001b[0m \u001b[32m━━━━━━━━━━━━━━━━━━━━\u001b[0m\u001b[37m\u001b[0m \u001b[1m1s\u001b[0m 4ms/step - accuracy: 0.7891 - loss: 0.5894 - val_accuracy: 0.8029 - val_loss: 0.5835\n",
            "Epoch 99/100\n",
            "\u001b[1m192/192\u001b[0m \u001b[32m━━━━━━━━━━━━━━━━━━━━\u001b[0m\u001b[37m\u001b[0m \u001b[1m1s\u001b[0m 3ms/step - accuracy: 0.7813 - loss: 0.6068 - val_accuracy: 0.8029 - val_loss: 0.5837\n",
            "Epoch 100/100\n",
            "\u001b[1m192/192\u001b[0m \u001b[32m━━━━━━━━━━━━━━━━━━━━\u001b[0m\u001b[37m\u001b[0m \u001b[1m1s\u001b[0m 3ms/step - accuracy: 0.7896 - loss: 0.5927 - val_accuracy: 0.8029 - val_loss: 0.5815\n"
          ]
        }
      ]
    },
    {
      "cell_type": "code",
      "source": [
        "# DISCUSSION #7:  Print/plot information about the model's accuracy\n",
        "# PRINT THE ACCURACY AND LOSS\n",
        "train_loss,train_accuracy = model.evaluate(train_X_std, train_truth, batch_size=16, verbose=0)\n",
        "print()\n",
        "print(\"Training Accuracy = {:.2f}\".format(train_accuracy))\n",
        "print(\"Training Loss     = {:.2f}\".format(train_loss))\n",
        "test_loss,test_accuracy = model.evaluate(test_X_std, test_truth, batch_size=16, verbose=0)\n",
        "print(\"Test Accuracy     = {:.2f}\".format(test_accuracy))\n",
        "print(\"Test Loss         = {:.2f}\".format(test_loss))\n",
        "\n",
        "# PLOT THE ACCURACY AND LOSS\n",
        "pd.DataFrame(history.history).plot(figsize=(8,5))\n",
        "plt.grid(True)\n",
        "plt.gca().set_ylim(0,1)\n",
        "plt.suptitle(\"Loss and Accuracy for \" + str(nEpochs) + \" epochs\")\n",
        "plt.title(\"(Note that 'val' = validation test scores)\")\n",
        "plt.show()\n"
      ],
      "metadata": {
        "id": "HHO5Gd3TqsPU",
        "collapsed": true,
        "colab": {
          "base_uri": "https://localhost:8080/",
          "height": 582
        },
        "outputId": "ad1ff157-2d51-49f0-9bb8-a1ce8ca11174"
      },
      "execution_count": 44,
      "outputs": [
        {
          "output_type": "stream",
          "name": "stdout",
          "text": [
            "\n",
            "Training Accuracy = 0.79\n",
            "Training Loss     = 0.59\n",
            "Test Accuracy     = 0.80\n",
            "Test Loss         = 0.58\n"
          ]
        },
        {
          "output_type": "display_data",
          "data": {
            "text/plain": [
              "<Figure size 800x500 with 1 Axes>"
            ],
            "image/png": "[encoded data removed]"
          },
          "metadata": {}
        }
      ]
    },
    {
      "cell_type": "code",
      "source": [
        "# :::::::::::::::::::::::::::::::::::::::::::::::::::::::::::::::::::::::::::::::::::::::::::::::::::::::::::::::::\n",
        "# DISCUSSION #8:  Print a Confusion Matrix on the Test Examples for the 3rd Class Passengers\n",
        "# :::::::::::::::::::::::::::::::::::::::::::::::::::::::::::::::::::::::::::::::::::::::::::::::::::::::::::::::::\n",
        "# PRINT A CONFUSION MATRIX FOR THE TEST EXAMPLES, FOR JUST 3RD CLASS\n",
        "probabilities = model.predict(test_X_std)  # probabilities = 2D array (rows=examples, cols=the 3 outcome probabilities)\n",
        "predicted_Action = tf.argmax(probabilities, axis=1).numpy()   # predictions is a 1D array of the 'winning' class (rows=examples)\n",
        "\n",
        "# Remap predicted_class and test_truth so we're only dealing with 3rd class tickets.  This means we will set all 1st and\n",
        "# 2nd class tickets to False (==0) and the 3rd class tickets to True (==1)\n",
        "nPredictions = predicted_Action.shape[0]\n",
        "predicted_HOLD = np.zeros(nPredictions)    # Preset everything to zero (False)\n",
        "test_truth_for_HOLD = np.zeros(nPredictions)     # Preset everything to zero (False)\n",
        "for i in range (nPredictions):\n",
        "      if predicted_Action[i] == 2:  predicted_HOLD[i] = 2   # Reset this example to True\n",
        "      if test_truth[i] == 1:     test_truth_for_HOLD[i] = 1    # Reset this example to True\n",
        "\n",
        "# the confusion matrix on the remapped values for 3rd class tickets\n",
        "((n_true_negatives, n_false_positives), (n_false_negatives, n_true_positives)) \\\n",
        "      = confusion_matrix(test_truth_for_HOLD, predicted_HOLD)\n",
        "print()\n",
        "print()\n",
        "print('CONFUSION MATRIX for Predicting 3rd Class Tickets.  Passenger counts for', n_test_examples, 'Test Examples')\n",
        "print()\n",
        "print('         Correctly Predicted is NOT 3rd Class Ticket:      ', n_true_negatives, '  |  ', n_false_negatives, ' :Predicted is NOT 3rd Class Ticket, but actually was')\n",
        "print('                                         ------------------------------------------------')\n",
        "print('         Predicted 3rd Class Ticket, but actually was NOT:  ', n_false_positives, '  | ', n_true_positives, ' :Correctly Predicted is 3rd Class Ticket')\n",
        "print()\n"
      ],
      "metadata": {
        "id": "zwXVkhfnq46Q",
        "colab": {
          "base_uri": "https://localhost:8080/"
        },
        "outputId": "0c5501d3-bfd2-4156-811b-68a6831d1c87"
      },
      "execution_count": 45,
      "outputs": [
        {
          "output_type": "stream",
          "name": "stdout",
          "text": [
            "\u001b[1m24/24\u001b[0m \u001b[32m━━━━━━━━━━━━━━━━━━━━\u001b[0m\u001b[37m\u001b[0m \u001b[1m0s\u001b[0m 4ms/step\n",
            "\n",
            "\n",
            "CONFUSION MATRIX for Predicting 3rd Class Tickets.  Passenger counts for 766 Test Examples\n",
            "\n",
            "         Correctly Predicted is NOT 3rd Class Ticket:       689   |   77  :Predicted is NOT 3rd Class Ticket, but actually was\n",
            "                                         ------------------------------------------------\n",
            "         Predicted 3rd Class Ticket, but actually was NOT:   0   |  0  :Correctly Predicted is 3rd Class Ticket\n",
            "\n"
          ]
        }
      ]
    },
    {
      "cell_type": "code",
      "source": [
        "# :::::::::::::::::::::::::::::::::::::::::::::::::::::::::::::::::::::::::::::::::::::::::::::::::::::::::::::::::\n",
        "# DISCUSSION #9:  Print some examples\n",
        "# -----------------------------------------------------------------------------------------------------------------\n",
        "# Here I've printed out the first 20 Test Examples, the 3 resulting probabilities, and the resulting prediction,\n",
        "# and the actual Ground Truth outcome. The predictions should be correct about 83% of the time.\n",
        "#\n",
        "# Note that the model, itself, is relatively opaque.  It can predict the ticket class of an individual, but it's\n",
        "# difficult to know why!  And this is a simple model with only 120 weights.  It would be nearly impossible to translate\n",
        "# those weights into an understanding of the relative importance of each input Feature.  Therefore, the model is rather\n",
        "# like a black box.  Sadly, this opacity is typical of AI models.\n",
        "# :::::::::::::::::::::::::::::::::::::::::::::::::::::::::::::::::::::::::::::::::::::::::::::::::::::::::::::::::\n",
        "# PRINT SOME OF THE INPUT DATA EXAMPLES\n",
        "print()\n",
        "\n",
        "\n",
        "# PRINT SOME OF THE INPUT DATA EXAMPLES\n",
        "print('  OXY_Close_PD   OXY_Volume     VIX_Close        OXY_PD_AVGs       Label   ||  Hold(0)   Sell(1)    Buy(2)     Prediction   Real_AVG_Label')\n",
        "for i in range(0, 7):\n",
        "    print('     {:4.0e}'.format(input_data[i,0]), '      ',\n",
        "          '{:4.0e}'.format(input_data[i,1]), '         ',\n",
        "          '{:3.0e}'.format(input_data[i,2]), '          ',\n",
        "          '{:3.0e}'.format(input_data[i,3]), '         ',\n",
        "           input_data[i, 4], '        '\n",
        "           '{:4.2f}'.format(probabilities[i,0]), '    ',\n",
        "          '{:4.2f}'.format(probabilities[i,1]), '    ',\n",
        "          '{:4.2f}'.format(probabilities[i,2]), '    =  ',\n",
        "          predicted_Action[i], '      ',\n",
        "          '{:3.0f}'.format(int(test_truth[i]))\n",
        "          )\n",
        "\n",
        "print()\n"
      ],
      "metadata": {
        "id": "e8IZQ-tHq6RU",
        "colab": {
          "base_uri": "https://localhost:8080/"
        },
        "outputId": "f6e7888a-62c8-430c-a5e1-a61ce9decf43"
      },
      "execution_count": 56,
      "outputs": [
        {
          "output_type": "stream",
          "name": "stdout",
          "text": [
            "\n",
            "  OXY_Close_PD   OXY_Volume     VIX_Close        OXY_PD_AVGs       Label   ||  Hold(0)   Sell(1)    Buy(2)     Prediction   Real_AVG_Label\n",
            "     -3e-02        8e+06           2e+01            -5e-03           0.0         0.64      0.09      0.26     =   0          0\n",
            "     1e-03        1e+07           3e+01            -4e-03           0.0         0.67      0.13      0.20     =   0          0\n",
            "     2e-02        7e+06           3e+01            -1e-03           0.0         0.67      0.07      0.26     =   0          0\n",
            "     -1e-02        9e+06           2e+01            3e-03           2.0         0.62      0.27      0.12     =   0          1\n",
            "     -3e-03        5e+06           2e+01            5e-03           0.0         0.60      0.23      0.17     =   0          1\n",
            "     1e-02        1e+07           2e+01            4e-03           0.0         0.87      0.05      0.08     =   0          0\n",
            "     1e-02        1e+07           2e+01            9e-03           0.0         0.87      0.07      0.06     =   0          0\n",
            "\n"
          ]
        }
      ]
    }
  ]
}